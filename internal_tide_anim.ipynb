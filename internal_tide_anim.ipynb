{
 "cells": [
  {
   "cell_type": "code",
   "execution_count": 1,
   "id": "8fdcf4e7-69f7-497f-8708-4db24ac939fe",
   "metadata": {},
   "outputs": [],
   "source": [
    "# interactive figure\n",
    "%matplotlib inline"
   ]
  },
  {
   "cell_type": "code",
   "execution_count": 4,
   "id": "bf2e21f5-2c00-4e43-90d7-43a6a3a45cfe",
   "metadata": {},
   "outputs": [
    {
     "name": "stdout",
     "output_type": "stream",
     "text": [
      "Collecting pygmt\n",
      "  Downloading pygmt-0.5.0-py3-none-any.whl (317 kB)\n",
      "\u001b[2K     \u001b[90m━━━━━━━━━━━━━━━━━━━━━━━━━━━━━━━━━━━━━━━\u001b[0m \u001b[32m317.1/317.1 kB\u001b[0m \u001b[31m5.3 MB/s\u001b[0m eta \u001b[36m0:00:00\u001b[0ma \u001b[36m0:00:01\u001b[0m\n",
      "\u001b[?25hRequirement already satisfied: pandas in /Users/jcai/miniconda3/envs/atms552/lib/python3.7/site-packages (from pygmt) (1.3.5)\n",
      "Requirement already satisfied: netCDF4 in /Users/jcai/miniconda3/envs/atms552/lib/python3.7/site-packages (from pygmt) (1.6.2)\n",
      "Requirement already satisfied: packaging in /Users/jcai/miniconda3/envs/atms552/lib/python3.7/site-packages (from pygmt) (22.0)\n",
      "Requirement already satisfied: numpy>=1.18 in /Users/jcai/miniconda3/envs/atms552/lib/python3.7/site-packages (from pygmt) (1.21.5)\n",
      "Requirement already satisfied: xarray in /Users/jcai/miniconda3/envs/atms552/lib/python3.7/site-packages (from pygmt) (0.20.1)\n",
      "Requirement already satisfied: cftime in /Users/jcai/miniconda3/envs/atms552/lib/python3.7/site-packages (from netCDF4->pygmt) (1.6.2)\n",
      "Requirement already satisfied: python-dateutil>=2.7.3 in /Users/jcai/miniconda3/envs/atms552/lib/python3.7/site-packages (from pandas->pygmt) (2.8.2)\n",
      "Requirement already satisfied: pytz>=2017.3 in /Users/jcai/miniconda3/envs/atms552/lib/python3.7/site-packages (from pandas->pygmt) (2022.7)\n",
      "Requirement already satisfied: typing-extensions>=3.7 in /Users/jcai/miniconda3/envs/atms552/lib/python3.7/site-packages (from xarray->pygmt) (4.4.0)\n",
      "Requirement already satisfied: importlib-metadata in /Users/jcai/miniconda3/envs/atms552/lib/python3.7/site-packages (from xarray->pygmt) (4.11.3)\n",
      "Requirement already satisfied: six>=1.5 in /Users/jcai/miniconda3/envs/atms552/lib/python3.7/site-packages (from python-dateutil>=2.7.3->pandas->pygmt) (1.16.0)\n",
      "Requirement already satisfied: zipp>=0.5 in /Users/jcai/miniconda3/envs/atms552/lib/python3.7/site-packages (from importlib-metadata->xarray->pygmt) (3.11.0)\n",
      "Installing collected packages: pygmt\n",
      "Successfully installed pygmt-0.5.0\n",
      "Note: you may need to restart the kernel to use updated packages.\n"
     ]
    }
   ],
   "source": [
    "# pip install pygmt"
   ]
  },
  {
   "cell_type": "code",
   "execution_count": 2,
   "id": "380c96e5-f928-41e8-90a9-7c02ec67a45b",
   "metadata": {},
   "outputs": [],
   "source": [
    "# auto reload modules\n",
    "%load_ext autoreload\n",
    "%autoreload 2\n",
    "\n",
    "import warnings\n",
    "import numpy as np\n",
    "import scipy.io as sio\n",
    "import matplotlib.pyplot as plt\n",
    "import matplotlib.animation as animation\n",
    "from IPython.display import HTML, display\n",
    "\n",
    "import pygmt"
   ]
  },
  {
   "cell_type": "code",
   "execution_count": 5,
   "id": "7fbc39fc-5b94-479a-bf98-2cd07332a6e4",
   "metadata": {},
   "outputs": [],
   "source": [
    "ds = sio.loadmat('/Users/jcai/Desktop/SWOT/Model/ZHAO23/ZHAO23-MD1-M2-SWOT19-SN4.mat', squeeze_me=True, struct_as_record=False);\n",
    "\n",
    "omega = 2*np.pi/(12.42*3600)\n",
    "t = np.arange(0,24.5,0.5)*3600\n",
    "\n",
    "ssh = ds['ZHAO23'].NorthWestSUM.ssh[:,:,None]*np.cos(-omega*t[None,None,:] + ds['ZHAO23'].NorthWestSUM.phs[:,:,None])"
   ]
  },
  {
   "cell_type": "code",
   "execution_count": 30,
   "id": "efa4d34b-6e60-4dfc-8ccf-3902a81522cb",
   "metadata": {},
   "outputs": [
    {
     "ename": "TypeError",
     "evalue": "grdcontour() takes 2 positional arguments but 5 were given",
     "output_type": "error",
     "traceback": [
      "\u001b[0;31m---------------------------------------------------------------------------\u001b[0m",
      "\u001b[0;31mTypeError\u001b[0m                                 Traceback (most recent call last)",
      "\u001b[0;32m/var/folders/wt/b72s2k3x0tgdgmmpyyhvf8xh0000gp/T/ipykernel_83404/266132919.py\u001b[0m in \u001b[0;36m<module>\u001b[0;34m\u001b[0m\n\u001b[1;32m      5\u001b[0m \u001b[0;34m\u001b[0m\u001b[0m\n\u001b[1;32m      6\u001b[0m \u001b[0;34m\u001b[0m\u001b[0m\n\u001b[0;32m----> 7\u001b[0;31m     \u001b[0mCh\u001b[0m \u001b[0;34m=\u001b[0m \u001b[0mfig\u001b[0m\u001b[0;34m.\u001b[0m\u001b[0mgrdcontour\u001b[0m\u001b[0;34m(\u001b[0m\u001b[0mds\u001b[0m\u001b[0;34m[\u001b[0m\u001b[0;34m'ZHAO23'\u001b[0m\u001b[0;34m]\u001b[0m\u001b[0;34m.\u001b[0m\u001b[0mNorthWestSUM\u001b[0m\u001b[0;34m.\u001b[0m\u001b[0mlon\u001b[0m\u001b[0;34m,\u001b[0m \u001b[0mds\u001b[0m\u001b[0;34m[\u001b[0m\u001b[0;34m'ZHAO23'\u001b[0m\u001b[0;34m]\u001b[0m\u001b[0;34m.\u001b[0m\u001b[0mNorthWestSUM\u001b[0m\u001b[0;34m.\u001b[0m\u001b[0mlat\u001b[0m\u001b[0;34m,\u001b[0m \u001b[0mssh\u001b[0m\u001b[0;34m[\u001b[0m\u001b[0;34m:\u001b[0m\u001b[0;34m,\u001b[0m\u001b[0;34m:\u001b[0m\u001b[0;34m,\u001b[0m\u001b[0;36m0\u001b[0m\u001b[0;34m]\u001b[0m\u001b[0;34m,\u001b[0m \u001b[0;36m22\u001b[0m\u001b[0;34m,\u001b[0m \u001b[0mcmap\u001b[0m\u001b[0;34m=\u001b[0m\u001b[0;34m'Spectral_r'\u001b[0m\u001b[0;34m)\u001b[0m\u001b[0;34m;\u001b[0m\u001b[0;34m\u001b[0m\u001b[0;34m\u001b[0m\u001b[0m\n\u001b[0m\u001b[1;32m      8\u001b[0m     \u001b[0mcbar\u001b[0m \u001b[0;34m=\u001b[0m \u001b[0mfig\u001b[0m\u001b[0;34m.\u001b[0m\u001b[0mcolorbar\u001b[0m\u001b[0;34m(\u001b[0m\u001b[0mCh\u001b[0m\u001b[0;34m,\u001b[0m \u001b[0mfraction\u001b[0m\u001b[0;34m=\u001b[0m\u001b[0;36m0.05\u001b[0m\u001b[0;34m)\u001b[0m\u001b[0;34m\u001b[0m\u001b[0;34m\u001b[0m\u001b[0m\n\u001b[1;32m      9\u001b[0m     \u001b[0mcbar\u001b[0m\u001b[0;34m.\u001b[0m\u001b[0mset_label\u001b[0m\u001b[0;34m(\u001b[0m\u001b[0;34mr'Surface height anomaly'\u001b[0m\u001b[0;34m,\u001b[0m \u001b[0mlabelpad\u001b[0m\u001b[0;34m=\u001b[0m\u001b[0;34m-\u001b[0m\u001b[0;36m33\u001b[0m\u001b[0;34m,\u001b[0m \u001b[0mfontsize\u001b[0m\u001b[0;34m=\u001b[0m\u001b[0;36m10\u001b[0m\u001b[0;34m)\u001b[0m\u001b[0;34m\u001b[0m\u001b[0;34m\u001b[0m\u001b[0m\n",
      "\u001b[0;32m~/miniconda3/envs/atms552/lib/python3.7/site-packages/pygmt/helpers/decorators.py\u001b[0m in \u001b[0;36mnew_module\u001b[0;34m(*args, **kwargs)\u001b[0m\n\u001b[1;32m    584\u001b[0m                     )\n\u001b[1;32m    585\u001b[0m                     \u001b[0mwarnings\u001b[0m\u001b[0;34m.\u001b[0m\u001b[0mwarn\u001b[0m\u001b[0;34m(\u001b[0m\u001b[0mmsg\u001b[0m\u001b[0;34m,\u001b[0m \u001b[0mcategory\u001b[0m\u001b[0;34m=\u001b[0m\u001b[0mSyntaxWarning\u001b[0m\u001b[0;34m,\u001b[0m \u001b[0mstacklevel\u001b[0m\u001b[0;34m=\u001b[0m\u001b[0;36m2\u001b[0m\u001b[0;34m)\u001b[0m\u001b[0;34m\u001b[0m\u001b[0;34m\u001b[0m\u001b[0m\n\u001b[0;32m--> 586\u001b[0;31m             \u001b[0;32mreturn\u001b[0m \u001b[0mmodule_func\u001b[0m\u001b[0;34m(\u001b[0m\u001b[0;34m*\u001b[0m\u001b[0margs\u001b[0m\u001b[0;34m,\u001b[0m \u001b[0;34m**\u001b[0m\u001b[0mkwargs\u001b[0m\u001b[0;34m)\u001b[0m\u001b[0;34m\u001b[0m\u001b[0;34m\u001b[0m\u001b[0m\n\u001b[0m\u001b[1;32m    587\u001b[0m \u001b[0;34m\u001b[0m\u001b[0m\n\u001b[1;32m    588\u001b[0m         \u001b[0mnew_module\u001b[0m\u001b[0;34m.\u001b[0m\u001b[0maliases\u001b[0m \u001b[0;34m=\u001b[0m \u001b[0maliases\u001b[0m\u001b[0;34m\u001b[0m\u001b[0;34m\u001b[0m\u001b[0m\n",
      "\u001b[0;32m~/miniconda3/envs/atms552/lib/python3.7/site-packages/pygmt/helpers/decorators.py\u001b[0m in \u001b[0;36mnew_module\u001b[0;34m(*args, **kwargs)\u001b[0m\n\u001b[1;32m    724\u001b[0m                         \u001b[0mkwargs\u001b[0m\u001b[0;34m[\u001b[0m\u001b[0marg\u001b[0m\u001b[0;34m]\u001b[0m \u001b[0;34m=\u001b[0m \u001b[0mseparators\u001b[0m\u001b[0;34m[\u001b[0m\u001b[0mfmt\u001b[0m\u001b[0;34m]\u001b[0m\u001b[0;34m.\u001b[0m\u001b[0mjoin\u001b[0m\u001b[0;34m(\u001b[0m\u001b[0;34mf\"{item}\"\u001b[0m \u001b[0;32mfor\u001b[0m \u001b[0mitem\u001b[0m \u001b[0;32min\u001b[0m \u001b[0mvalue\u001b[0m\u001b[0;34m)\u001b[0m\u001b[0;34m\u001b[0m\u001b[0;34m\u001b[0m\u001b[0m\n\u001b[1;32m    725\u001b[0m             \u001b[0;31m# Execute the original function and return its output\u001b[0m\u001b[0;34m\u001b[0m\u001b[0;34m\u001b[0m\u001b[0;34m\u001b[0m\u001b[0m\n\u001b[0;32m--> 726\u001b[0;31m             \u001b[0;32mreturn\u001b[0m \u001b[0mmodule_func\u001b[0m\u001b[0;34m(\u001b[0m\u001b[0;34m*\u001b[0m\u001b[0margs\u001b[0m\u001b[0;34m,\u001b[0m \u001b[0;34m**\u001b[0m\u001b[0mkwargs\u001b[0m\u001b[0;34m)\u001b[0m\u001b[0;34m\u001b[0m\u001b[0;34m\u001b[0m\u001b[0m\n\u001b[0m\u001b[1;32m    727\u001b[0m \u001b[0;34m\u001b[0m\u001b[0m\n\u001b[1;32m    728\u001b[0m         \u001b[0;32mreturn\u001b[0m \u001b[0mnew_module\u001b[0m\u001b[0;34m\u001b[0m\u001b[0;34m\u001b[0m\u001b[0m\n",
      "\u001b[0;31mTypeError\u001b[0m: grdcontour() takes 2 positional arguments but 5 were given"
     ]
    }
   ],
   "source": [
    "fig = pygmt.Figure()\n",
    "with fig.subplot(1,1, figsize=(6,4.5)):\n",
    "    oahu = [-131, -120, 32, 41]\n",
    "    fig.coast(resolution=\"f\", shorelines=\"1p\", region=oahu, projection=\"M5c\")\n",
    "\n",
    "\n",
    "    Ch = fig.grdcontour(ds['ZHAO23'].NorthWestSUM.lon, ds['ZHAO23'].NorthWestSUM.lat, ssh[:,:,0], 22, cmap='Spectral_r');\n",
    "    cbar = fig.colorbar(Ch, fraction=0.05)\n",
    "    cbar.set_label(r'Surface height anomaly', labelpad=-33, fontsize=10)\n",
    "    fig.set_title(f't = {0*0.5} hours', y=0.999);\n",
    "\n",
    "fig.show()"
   ]
  },
  {
   "cell_type": "code",
   "execution_count": null,
   "id": "ee25c5cc-9520-4b4b-8b3b-e97e731ebb33",
   "metadata": {},
   "outputs": [],
   "source": [
    "oahu = [-128, -122, 32, 42]\n",
    "pygmt.Figure().coast(resolution=\"f\", shorelines=\"1p\", region=oahu, projection=\"M5c\")\n",
    "\n",
    "Ch = ax.contourf(ds['ZHAO23'].NorthWestSUM.lon, ds['ZHAO23'].NorthWestSUM.lat, ssh[:,:,0], 22, cmap='Spectral_r');\n",
    "cbar = fig.colorbar(Ch, ax=ax, fraction=0.05)\n",
    "cbar.set_label(r'Surface height anomaly', labelpad=-33, fontsize=10)\n",
    "ax.set_title(f't = {0*0.5} hours', y=0.999);\n"
   ]
  },
  {
   "cell_type": "code",
   "execution_count": null,
   "id": "c0274359-5ecd-44bb-8e95-1076937e93fb",
   "metadata": {},
   "outputs": [],
   "source": [
    "def update(frame):\n",
    "    global Ch\n",
    "    # for each frame, get new data and clear old data stored on each artist\n",
    "    with warnings.catch_warnings():\n",
    "        warnings.simplefilter('ignore')\n",
    "        for coll in Ch.collections:\n",
    "            coll.remove()\n",
    "    # update the plot\n",
    "    Ch = ax.contourf(ds['ZHAO23'].NorthWestSUM.lon, ds['ZHAO23'].NorthWestSUM.lat, ssh[:,:,frame], 22, cmap='Spectral_r')\n",
    "    ax.set_title(f't = {frame*0.5} hours', y=0.999)\n",
    "    return Ch\n",
    "\n",
    "ani = animation.FuncAnimation(fig=fig, func=update, frames=np.size(t), \n",
    "                              interval=400, repeat_delay=800)# blit=True);#\n",
    "plt.close()\n",
    "display(HTML(ani.to_jshtml()));\n",
    "# ani.save('./SouthSUM.mp4', writer='ffmpeg', fps=3, dpi=200);"
   ]
  },
  {
   "cell_type": "code",
   "execution_count": null,
   "id": "77dbc59a-a36c-4de5-9442-ba15ad46b52e",
   "metadata": {},
   "outputs": [],
   "source": []
  },
  {
   "cell_type": "code",
   "execution_count": null,
   "id": "0c57704d-088a-4f18-a0c1-ca93998b57f6",
   "metadata": {},
   "outputs": [],
   "source": []
  }
 ],
 "metadata": {
  "kernelspec": {
   "display_name": "atms552",
   "language": "python",
   "name": "atms552"
  },
  "language_info": {
   "codemirror_mode": {
    "name": "ipython",
    "version": 3
   },
   "file_extension": ".py",
   "mimetype": "text/x-python",
   "name": "python",
   "nbconvert_exporter": "python",
   "pygments_lexer": "ipython3",
   "version": "3.7.15"
  }
 },
 "nbformat": 4,
 "nbformat_minor": 5
}
